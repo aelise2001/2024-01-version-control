{
 "cells": [
  {
   "cell_type": "markdown",
   "id": "d61e8cec",
   "metadata": {},
   "source": [
    "# This is to demo github version control."
   ]
  },
  {
   "cell_type": "code",
   "execution_count": 1,
   "id": "0da6ffeb",
   "metadata": {},
   "outputs": [],
   "source": [
    "monthly_rent=500\n",
    "mothly_income=1_200\n",
    "food=300"
   ]
  },
  {
   "cell_type": "code",
   "execution_count": 5,
   "id": "b9f80f0f",
   "metadata": {},
   "outputs": [
    {
     "data": {
      "text/plain": [
       "400"
      ]
     },
     "execution_count": 5,
     "metadata": {},
     "output_type": "execute_result"
    }
   ],
   "source": [
    "balance= mothly_income - monthly_rent - food\n",
    "balance"
   ]
  }
 ],
 "metadata": {
  "kernelspec": {
   "display_name": "Python 3 (ipykernel)",
   "language": "python",
   "name": "python3"
  },
  "language_info": {
   "codemirror_mode": {
    "name": "ipython",
    "version": 3
   },
   "file_extension": ".py",
   "mimetype": "text/x-python",
   "name": "python",
   "nbconvert_exporter": "python",
   "pygments_lexer": "ipython3",
   "version": "3.11.5"
  }
 },
 "nbformat": 4,
 "nbformat_minor": 5
}
